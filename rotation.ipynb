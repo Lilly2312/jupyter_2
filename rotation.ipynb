{
 "cells": [
  {
   "cell_type": "code",
   "execution_count": 2,
   "metadata": {},
   "outputs": [
    {
     "name": "stdout",
     "output_type": "stream",
     "text": [
      "Strings are rotations of each other\n"
     ]
    }
   ],
   "source": [
    "def checkString(s1, s2, indexFound, Size):\n",
    "    for i in range(Size):\n",
    "\n",
    "        # check whether the character is equal or not\n",
    "        if(s1[i] != s2[(indexFound + i) % Size]):\n",
    "            return False\n",
    "\n",
    "        # %Size keeps (indexFound+i) in bounds,\n",
    "        # since it ensures it's value is always less than Size\n",
    "    return True\n",
    "\n",
    "\n",
    "# driver code\n",
    "s1 = \"abcd\"\n",
    "s2 = \"cdab\"\n",
    "\n",
    "if(len(s1) != len(s2)):\n",
    "    print(\"s2 is not a rotation on s1\")\n",
    "\n",
    "else:\n",
    "\n",
    "    indexes = []  # store occurrences of the first character of s1\n",
    "    Size = len(s1)\n",
    "    firstChar = s1[0]\n",
    "    for i in range(Size):\n",
    "        if(s2[i] == firstChar):\n",
    "            indexes.append(i)\n",
    "\n",
    "    isRotation = False\n",
    "\n",
    "    # check if the strings are rotation of each other\n",
    "    # for every occurrence of firstChar in s2\n",
    "    for idx in indexes:\n",
    "\n",
    "        isRotation = checkString(s1, s2, idx, Size)\n",
    "\n",
    "        if(isRotation):\n",
    "            break\n",
    "\n",
    "    if(isRotation):\n",
    "        print(\"Strings are rotations of each other\")\n",
    "    else:\n",
    "        print(\"Strings are not rotations of each other\")"
   ]
  },
  {
   "cell_type": "code",
   "execution_count": 5,
   "metadata": {},
   "outputs": [
    {
     "name": "stdout",
     "output_type": "stream",
     "text": [
      "Move disk 1 from rod A to rod C\n",
      "Move disk 2 from rod A to rod B\n",
      "Move disk 1 from rod C to rod B\n",
      "Move disk 3 from rod A to rod C\n",
      "Move disk 1 from rod B to rod A\n",
      "Move disk 2 from rod B to rod C\n",
      "Move disk 1 from rod A to rod C\n"
     ]
    }
   ],
   "source": [
    "\n",
    "# 5 Tower of hanoi\n",
    "\n",
    "def TowerOfHanoi(n, from_rod, to_rod, aux_rod):\n",
    "\tif n == 0:\n",
    "\t\treturn\n",
    "\tTowerOfHanoi(n-1, from_rod, aux_rod, to_rod)\n",
    "\tprint(\"Move disk\", n, \"from rod\", from_rod, \"to rod\", to_rod)\n",
    "\tTowerOfHanoi(n-1, aux_rod, to_rod, from_rod)\n",
    "\n",
    "\n",
    "# Driver code\n",
    "N = 3\n",
    "\n",
    "# A, C, B are the name of rods\n",
    "TowerOfHanoi(N, 'A', 'C', 'B')\n",
    "\n",
    "# Contributed By Harshit Agrawal\n"
   ]
  },
  {
   "cell_type": "code",
   "execution_count": 3,
   "metadata": {},
   "outputs": [
    {
     "name": "stdout",
     "output_type": "stream",
     "text": [
      "First non-repeating character is p\n"
     ]
    }
   ],
   "source": [
    "#4 Non repeated string\n",
    "\n",
    "string = \"priyanka\"\n",
    "index = -1\n",
    "fnc = \"\"\n",
    "for i in string:\n",
    "\tif string.count(i) == 1:\n",
    "\t\tfnc += i\n",
    "\t\tbreak\n",
    "\telse:\n",
    "\t\tindex += 1\n",
    "if index == 1:\n",
    "\tprint(\"Either all characters are repeating or string is empty\")\n",
    "else:\n",
    "\tprint(\"First non-repeating character is\", fnc)\n"
   ]
  },
  {
   "cell_type": "code",
   "execution_count": 6,
   "metadata": {},
   "outputs": [
    {
     "name": "stdout",
     "output_type": "stream",
     "text": [
      "ABC/-AK/L-*\n"
     ]
    }
   ],
   "source": [
    "#6 prefix to postfix\n",
    "# Example Input\n",
    "s = \"*-A/BC-/AKL\"\n",
    "\n",
    "# Stack for storing operands\n",
    "stack = []\n",
    "\n",
    "operators = set(['+', '-', '*', '/', '^'])\n",
    "\n",
    "# Reversing the order\n",
    "s = s[::-1]\n",
    "\n",
    "# iterating through individual tokens\n",
    "for i in s:\n",
    "\n",
    "\t# if token is operator\n",
    "\tif i in operators:\n",
    "\n",
    "\t\t# pop 2 elements from stack\n",
    "\t\ta = stack.pop()\n",
    "\t\tb = stack.pop()\n",
    "\n",
    "\t\t# concatenate them as operand1 +\n",
    "\t\t# operand2 + operator\n",
    "\t\ttemp = a+b+i\n",
    "\t\tstack.append(temp)\n",
    "\n",
    "\t# else if operand\n",
    "\telse:\n",
    "\t\tstack.append(i)\n",
    "\n",
    "# printing final output\n",
    "print(*stack)\n"
   ]
  },
  {
   "cell_type": "code",
   "execution_count": 7,
   "metadata": {},
   "outputs": [
    {
     "name": "stdout",
     "output_type": "stream",
     "text": [
      "((A-(B/C))*((A/K)-L))\n"
     ]
    }
   ],
   "source": [
    "#7 prefix to infix\n",
    "def prefixToInfix(prefix):\n",
    "\tstack = []\n",
    "\t\n",
    "\t# read prefix in reverse order\n",
    "\ti = len(prefix) - 1\n",
    "\twhile i >= 0:\n",
    "\t\tif not isOperator(prefix[i]):\n",
    "\t\t\t\n",
    "\t\t\t# symbol is operand\n",
    "\t\t\tstack.append(prefix[i])\n",
    "\t\t\ti -= 1\n",
    "\t\telse:\n",
    "\t\t\n",
    "\t\t\t# symbol is operator\n",
    "\t\t\tstr = \"(\" + stack.pop() + prefix[i] + stack.pop() + \")\"\n",
    "\t\t\tstack.append(str)\n",
    "\t\t\ti -= 1\n",
    "\t\n",
    "\treturn stack.pop()\n",
    "\n",
    "def isOperator(c):\n",
    "\tif c == \"*\" or c == \"+\" or c == \"-\" or c == \"/\" or c == \"^\" or c == \"(\" or c == \")\":\n",
    "\t\treturn True\n",
    "\telse:\n",
    "\t\treturn False\n",
    "\n",
    "# Driver code\n",
    "if __name__==\"__main__\":\n",
    "\tstr = \"*-A/BC-/AKL\"\n",
    "\tprint(prefixToInfix(str))\n",
    "\t\n",
    "# This code is contributed by avishekarora\n"
   ]
  },
  {
   "cell_type": "code",
   "execution_count": 9,
   "metadata": {},
   "outputs": [],
   "source": [
    "#10 smallest number using a stack\n",
    "def __init__(self):\n",
    "        \n",
    "\n",
    "    def push(self, val):\n",
    "        \"\"\"\n",
    "        :type val: int\n",
    "        :rtype: None\n",
    "        \"\"\"\n",
    "        \n",
    "\n",
    "    def pop(self):\n",
    "        \"\"\"\n",
    "        :rtype: None\n",
    "        \"\"\"\n",
    "        \n",
    "\n",
    "    def top(self):\n",
    "        \"\"\"\n",
    "        :rtype: int\n",
    "        \"\"\"\n",
    "        \n",
    "\n",
    "    def getMin(self):\n",
    "        \"\"\"\n",
    "        :rtype: int\n",
    "        \"\"\""
   ]
  },
  {
   "cell_type": "code",
   "execution_count": 10,
   "metadata": {},
   "outputs": [
    {
     "name": "stdout",
     "output_type": "stream",
     "text": [
      "Original Stack\n",
      "5\n",
      "4\n",
      "3\n",
      "2\n",
      "1\n",
      "\n",
      "Stack after Reversing\n",
      "1\n",
      "2\n",
      "3\n",
      "4\n",
      "5\n"
     ]
    }
   ],
   "source": [
    "# 9 reverse stack\n",
    "# create class for stack\n",
    "class Stack:\n",
    "\n",
    "\t# create empty list\n",
    "\tdef __init__(self):\n",
    "\t\tself.Elements = []\n",
    "\t\t\n",
    "\t# push() for insert an element\n",
    "\tdef push(self, value):\n",
    "\t\tself.Elements.append(value)\n",
    "\t\n",
    "\t# pop() for remove an element\n",
    "\tdef pop(self):\n",
    "\t\treturn self.Elements.pop()\n",
    "\t\n",
    "\t# empty() check the stack is empty of not\n",
    "\tdef empty(self):\n",
    "\t\treturn self.Elements == []\n",
    "\t\n",
    "\t# show() display stack\n",
    "\tdef show(self):\n",
    "\t\tfor value in reversed(self.Elements):\n",
    "\t\t\tprint(value)\n",
    "\n",
    "# Insert_Bottom() insert value at bottom\n",
    "def BottomInsert(s, value):\n",
    "\n",
    "\t# check the stack is empty or not\n",
    "\tif s.empty():\n",
    "\t\t\n",
    "\t\t# if stack is empty then call\n",
    "\t\t# push() method.\n",
    "\t\ts.push(value)\n",
    "\t\t\n",
    "\t# if stack is not empty then execute\n",
    "\t# else block\n",
    "\telse:\n",
    "\t\tpopped = s.pop()\n",
    "\t\tBottomInsert(s, value)\n",
    "\t\ts.push(popped)\n",
    "\n",
    "# Reverse() reverse the stack\n",
    "def Reverse(s):\n",
    "\tif s.empty():\n",
    "\t\tpass\n",
    "\telse:\n",
    "\t\tpopped = s.pop()\n",
    "\t\tReverse(s)\n",
    "\t\tBottomInsert(s, popped)\n",
    "\n",
    "\n",
    "# create object of stack class\n",
    "stk = Stack()\n",
    "\n",
    "stk.push(1)\n",
    "stk.push(2)\n",
    "stk.push(3)\n",
    "stk.push(4)\n",
    "stk.push(5)\n",
    "\n",
    "print(\"Original Stack\")\n",
    "stk.show()\n",
    "\n",
    "print(\"\\nStack after Reversing\")\n",
    "Reverse(stk)\n",
    "stk.show()\n"
   ]
  },
  {
   "cell_type": "code",
   "execution_count": 11,
   "metadata": {},
   "outputs": [
    {
     "name": "stdout",
     "output_type": "stream",
     "text": [
      "Balanced\n"
     ]
    }
   ],
   "source": [
    "#8 balanced\n",
    "\n",
    "\n",
    "def areBracketsBalanced(expr):\n",
    "\tstack = []\n",
    "\n",
    "\t# Traversing the Expression\n",
    "\tfor char in expr:\n",
    "\t\tif char in [\"(\", \"{\", \"[\"]:\n",
    "\n",
    "\t\t\t# Push the element in the stack\n",
    "\t\t\tstack.append(char)\n",
    "\t\telse:\n",
    "\n",
    "\t\t\t# IF current character is not opening\n",
    "\t\t\t# bracket, then it must be closing.\n",
    "\t\t\t# So stack cannot be empty at this point.\n",
    "\t\t\tif not stack:\n",
    "\t\t\t\treturn False\n",
    "\t\t\tcurrent_char = stack.pop()\n",
    "\t\t\tif current_char == '(':\n",
    "\t\t\t\tif char != \")\":\n",
    "\t\t\t\t\treturn False\n",
    "\t\t\tif current_char == '{':\n",
    "\t\t\t\tif char != \"}\":\n",
    "\t\t\t\t\treturn False\n",
    "\t\t\tif current_char == '[':\n",
    "\t\t\t\tif char != \"]\":\n",
    "\t\t\t\t\treturn False\n",
    "\n",
    "\t# Check Empty Stack\n",
    "\tif stack:\n",
    "\t\treturn False\n",
    "\treturn True\n",
    "\n",
    "\n",
    "# Driver Code\n",
    "if __name__ == \"__main__\":\n",
    "\texpr = \"{()}[]\"\n",
    "\n",
    "\t# Function call\n",
    "\tif areBracketsBalanced(expr):\n",
    "\t\tprint(\"Balanced\")\n",
    "\telse:\n",
    "\t\tprint(\"Not Balanced\")\n"
   ]
  }
 ],
 "metadata": {
  "kernelspec": {
   "display_name": "Python 3",
   "language": "python",
   "name": "python3"
  },
  "language_info": {
   "codemirror_mode": {
    "name": "ipython",
    "version": 3
   },
   "file_extension": ".py",
   "mimetype": "text/x-python",
   "name": "python",
   "nbconvert_exporter": "python",
   "pygments_lexer": "ipython3",
   "version": "3.10.9"
  },
  "orig_nbformat": 4,
  "vscode": {
   "interpreter": {
    "hash": "e105dadc376c8875b8775ef15f9cf86621ff4fe8632ecc57e8bbbce9de13853f"
   }
  }
 },
 "nbformat": 4,
 "nbformat_minor": 2
}
